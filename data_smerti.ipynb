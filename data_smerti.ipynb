{
 "cells": [
  {
   "cell_type": "code",
   "execution_count": 14,
   "metadata": {},
   "outputs": [],
   "source": [
    "%config Completer.use_jedi = False\n",
    "\n",
    "import pandas as pd\n",
    "import re\n",
    "import math\n",
    "from datetime import datetime\n",
    "import numpy\n",
    "from sklearn.linear_model import LinearRegression\n",
    "import matplotlib.pyplot as plt\n",
    "from mpl_toolkits.mplot3d import Axes3D\n",
    "%matplotlib widget\n"
   ]
  },
  {
   "cell_type": "code",
   "execution_count": 15,
   "metadata": {},
   "outputs": [],
   "source": [
    "def processDate(string, regexp):\n",
    "    result = None\n",
    "    if string != 'nan':\n",
    "        dates = re.findall(regexp, string)\n",
    "        if len(dates) != 0:\n",
    "            result = dates[0]\n",
    "    return result"
   ]
  },
  {
   "cell_type": "code",
   "execution_count": 16,
   "metadata": {},
   "outputs": [],
   "source": [
    "def days_between(d1, d2, format_first, format_second):\n",
    "    try:\n",
    "        d1 = datetime.strptime(d1, format_first)\n",
    "        d2 = datetime.strptime(d2, format_second)\n",
    "    except ValueError:\n",
    "        return None\n",
    "    return abs((d2 - d1).days)"
   ]
  },
  {
   "cell_type": "code",
   "execution_count": 23,
   "metadata": {},
   "outputs": [],
   "source": [
    "def filterData(priziv_from_beginning, smert_from_priziv, age_at_priziv):\n",
    "    if priziv_from_beginning is None or smert_from_priziv is None or age_at_priziv is None:\n",
    "        return False\n",
    "    if priziv_from_beginning > 1460 or smert_from_priziv > 1460 or age_at_priziv > 90 * 365:\n",
    "        return False\n",
    "    return True"
   ]
  },
  {
   "cell_type": "code",
   "execution_count": 31,
   "metadata": {},
   "outputs": [],
   "source": [
    "def processPerson(index):\n",
    "    regex_month_year =  '\\d{2}.\\d{4}'\n",
    "    priziv = processDate(str(data['data_i_mesto_priziva'][index]), regex_month_year)\n",
    "    birth = processDate(str(data['date_birth'][index]), '\\d{4}')\n",
    "    smert = processDate(str(data['data_vibitiya'][0]), regex_month_year)\n",
    "    \n",
    "    if priziv is not None and birth is not None and smert is not None:\n",
    "        priziv_from_beginning = days_between(priziv, '22.06.1941', \"%m.%Y\", \"%d.%m.%Y\")\n",
    "        smert_from_priziv = (days_between(priziv, smert, \"%m.%Y\", \"%m.%Y\"))\n",
    "        age_at_priziv = (days_between(birth, priziv, '%Y', \"%m.%Y\"))\n",
    "        if filterData(priziv_from_beginning, smert_from_priziv, age_at_priziv):\n",
    "            x1.append(priziv_from_beginning)\n",
    "            x2.append(age_at_priziv)\n",
    "            y.append(smert_from_priziv)\n",
    "            "
   ]
  },
  {
   "cell_type": "code",
   "execution_count": 32,
   "metadata": {},
   "outputs": [
    {
     "name": "stdout",
     "output_type": "stream",
     "text": [
      "82 7395 456 "
     ]
    }
   ],
   "source": [
    "data = pd.read_csv('data.tsv', sep = '\\t')\n",
    "x1 = list()\n",
    "x2 = list()\n",
    "y = list()\n",
    "for index in data.index:\n",
    "    processPerson(index)\n",
    "X = numpy.array([x1,x2])\n",
    "priznaki = X.T\n",
    "y = numpy.array(y).T\n",
    "print(x1[5], end = ' ')\n",
    "print(x2[5], end = ' ')\n",
    "print(y[5], end = ' ')\n",
    "\n"
   ]
  },
  {
   "cell_type": "code",
   "execution_count": 33,
   "metadata": {},
   "outputs": [
    {
     "data": {
      "text/plain": [
       "array([398.30563668])"
      ]
     },
     "execution_count": 33,
     "metadata": {},
     "output_type": "execute_result"
    }
   ],
   "source": [
    "model = LinearRegression()\n",
    "model.fit(priznaki, y)\n",
    "model.predict(numpy.array([[85, 7400]]))"
   ]
  },
  {
   "cell_type": "code",
   "execution_count": 34,
   "metadata": {},
   "outputs": [
    {
     "data": {
      "application/vnd.jupyter.widget-view+json": {
       "model_id": "9f12bafef5d24583b0a606bf069c3e51",
       "version_major": 2,
       "version_minor": 0
      },
      "text/plain": [
       "Canvas(toolbar=Toolbar(toolitems=[('Home', 'Reset original view', 'home', 'home'), ('Back', 'Back to previous …"
      ]
     },
     "metadata": {},
     "output_type": "display_data"
    },
    {
     "data": {
      "text/plain": [
       "<mpl_toolkits.mplot3d.art3d.Path3DCollection at 0x7fb2c914ad90>"
      ]
     },
     "execution_count": 34,
     "metadata": {},
     "output_type": "execute_result"
    }
   ],
   "source": [
    "fig = plt.figure(figsize=(8,8))\n",
    "ax = fig.add_subplot(111, projection='3d')\n",
    "ax.scatter(numpy.array(x1), numpy.array(x2), numpy.array(y))"
   ]
  },
  {
   "cell_type": "code",
   "execution_count": null,
   "metadata": {},
   "outputs": [],
   "source": []
  }
 ],
 "metadata": {
  "kernelspec": {
   "display_name": "Python 3",
   "language": "python",
   "name": "python3"
  },
  "language_info": {
   "codemirror_mode": {
    "name": "ipython",
    "version": 3
   },
   "file_extension": ".py",
   "mimetype": "text/x-python",
   "name": "python",
   "nbconvert_exporter": "python",
   "pygments_lexer": "ipython3",
   "version": "3.9.1"
  }
 },
 "nbformat": 4,
 "nbformat_minor": 4
}
